{
 "cells": [
  {
   "cell_type": "code",
   "execution_count": 1,
   "id": "73848899-0ada-4207-bdd4-30e23fda16e9",
   "metadata": {},
   "outputs": [],
   "source": [
    "from langchain_community.document_loaders import PyPDFLoader"
   ]
  },
  {
   "cell_type": "code",
   "execution_count": 2,
   "id": "de414c22-7d61-4cd4-a061-49527b50d574",
   "metadata": {},
   "outputs": [],
   "source": [
    "pdf_path = \"../data/test_document.pdf\""
   ]
  },
  {
   "cell_type": "code",
   "execution_count": 3,
   "id": "5c983689-2705-484a-97da-9e433cf10b8b",
   "metadata": {},
   "outputs": [],
   "source": [
    "loader = PyPDFLoader(pdf_path)\n",
    "documents = loader.load()"
   ]
  },
  {
   "cell_type": "code",
   "execution_count": 4,
   "id": "564c34e9-8125-4f4f-9914-3db9a594458c",
   "metadata": {},
   "outputs": [
    {
     "name": "stdout",
     "output_type": "stream",
     "text": [
      "Документ успешно загружен.\n",
      "Тип объекта, который мы получили: <class 'list'>\n",
      "Количество элементов в списке: 25\n",
      "Тип одного элемента: <class 'langchain_core.documents.base.Document'>\n"
     ]
    }
   ],
   "source": [
    "print(f\"Документ успешно загружен.\")\n",
    "print(f\"Тип объекта, который мы получили: {type(documents)}\")\n",
    "print(f\"Количество элементов в списке: {len(documents)}\")\n",
    "print(f\"Тип одного элемента: {type(documents[0])}\")"
   ]
  },
  {
   "cell_type": "code",
   "execution_count": 5,
   "id": "3d0e2f1a-e1bc-4259-980e-69c410f6512e",
   "metadata": {},
   "outputs": [
    {
     "name": "stdout",
     "output_type": "stream",
     "text": [
      "\n",
      "--- МЕТАДАННЫЕ ПЕРВОЙ СТРАНИЦЫ ---\n",
      "{'producer': 'GPL Ghostscript 10.02.1', 'creator': 'PDF24 Creator', 'creationdate': '2025-06-23T11:47:28+03:00', 'moddate': '2025-06-23T11:47:28+03:00', 'title': '<CFEEF1F2E0EDEEE2EBE5EDE8E520CFF0E0E2E8F2E5EBFCF1F2E2E020D0D420>', 'author': 'petr.baldaev', 'source': '../data/test_document.pdf', 'total_pages': 25, 'page': 0, 'page_label': '1'}\n",
      "\n",
      "--- СОДЕРЖИМОЕ (КОНТЕНТ) ПЕРВОЙ СТРАНИЦЫ ---\n",
      "Постановление Правительства РФ от 24.12.2021 N 2464 (ред. от 12.06.2024) \"О порядке обучения по охране труда и проверки знания требований охраны труда\" (вместе с \n",
      "\"Правилами обучения по охране труда и проверки знания требований охраны труда\") \n",
      "ПРАВИТЕЛЬСТВО РОССИЙСКОЙ ФЕДЕРАЦИИ \n",
      "ПОСТАНОВЛЕНИЕ \n",
      "от 24 декабря 2021 г. N 2464 \n",
      "О ПОРЯДКЕ \n",
      "ОБУЧЕНИЯ ПО ОХРАНЕ ТРУДА И ПРОВЕРКИ ЗНАНИЯ ТРЕБОВАНИЙ \n",
      "ОХРАНЫ ТРУДА \n",
      "Список изменяющих документов \n",
      "(в ред. Постановлений Правительства РФ от 30.12.2022 N 2540,\n",
      "от 12.06.2024 N 792)\n",
      "В соответствии с частью третьей статьи 219 Трудовог о кодекса Российской Федерации \n",
      "Правительство Российской Федерации постановляет: \n",
      "1. Утвердить прилагаемые Правила обучения по охране т руда и проверки знания требований охраны \n",
      "труда (далее - Правила). \n",
      "2. Установить, что: \n",
      "положения пункта 78 Правил применяются с 1 марта 2023 г.; \n",
      "положения пункта 99 Правил в части, касающейся осущес твления работодателем деятельности \n",
      "по \n",
      "обучению работников вопросам охраны труда при условии  внесения этим работодателем информации в\n",
      "личный кабинет индивидуального предпринимателя или юриди ческого лица в информационной системе \n",
      "охраны труда Министерства труда и социальной защиты Ро ссийской Федерации, применяются с 1 марта \n",
      "2023 г.; \n",
      "положения пунктов 104 - 116 Правил в части, касающейс я внесения сведений в реестр \n",
      "индивидуальных предпринимателей и юридических лиц, осуществляющих деятельность по обучению своих \n",
      "работников вопросам охраны труда, применяются с 1 марта 2023 г.; \n",
      "положения пунктов 118 и 119 Правил в части, касающейс я внесения сведений в реестр обученных по \n",
      "охране труда лиц, применяются с 1 марта 2023 г.; \n",
      "документы, подтверждающие проверку у работников знания требований охраны труда, выданные в\n",
      "установленном порядке до введения в действие Правил, действительны до окончания срока их действия. \n",
      "3. Утратил силу. - Постановление Правительства РФ от 12.06.2024 N 792. \n",
      "4. Реализация полномочий федеральных органов исполнител ьной власти, предусмотренных \n",
      "настоящим постановлением, осуществляется в пределах ус тановленной предельной численности \n",
      "работников федеральных органов исполнительной власти, а также бюджетных ассигнований, \n",
      "предусмотренных им на руководство и управление в сфере установленных функций. \n",
      "5. Настоящее постановление вступает в силу с 1 сентябр я 2022 г. и действует до 1 сентября 2026 г., \n",
      "за исключением пунктов 3 и 4 настоящего постановления, которые вступают в силу с 1 марта 2022 г. \n",
      "Председатель Правительства \n",
      "Российской Федерации \n",
      "М.МИШУСТИН \n",
      "Утверждены \n",
      "постановлением Правительства \n",
      "Российской Федерации \n",
      "от 24 декабря 2021 г. N 2464 \n",
      "ПРАВИЛА \n",
      "Дата печати: 23.06.2025  Система КонсультантПлюс: Российско е законодательство (Версия Проф)  Лист 1\n"
     ]
    }
   ],
   "source": [
    "first_page_document = documents[0]\n",
    "\n",
    "print(\"\\n--- МЕТАДАННЫЕ ПЕРВОЙ СТРАНИЦЫ ---\")\n",
    "print(first_page_document.metadata)\n",
    "\n",
    "print(\"\\n--- СОДЕРЖИМОЕ (КОНТЕНТ) ПЕРВОЙ СТРАНИЦЫ ---\")\n",
    "print(first_page_document.page_content)"
   ]
  },
  {
   "cell_type": "code",
   "execution_count": 6,
   "id": "f7b51342-6ef1-4ca8-9061-761c907595c9",
   "metadata": {},
   "outputs": [],
   "source": [
    "from langchain.text_splitter import RecursiveCharacterTextSplitter"
   ]
  },
  {
   "cell_type": "code",
   "execution_count": 7,
   "id": "05ecf18d-2900-4d38-a9b1-c31f60027dc7",
   "metadata": {},
   "outputs": [],
   "source": [
    "text_splitter = RecursiveCharacterTextSplitter(\n",
    "    chunk_size=1000,\n",
    "    chunk_overlap=200,\n",
    "    length_function=len\n",
    ")"
   ]
  },
  {
   "cell_type": "code",
   "execution_count": 8,
   "id": "4f2a2f1b-a1ed-48d8-9d0e-daf6cf207139",
   "metadata": {},
   "outputs": [],
   "source": [
    "chunks = text_splitter.split_documents(documents)"
   ]
  },
  {
   "cell_type": "code",
   "execution_count": 9,
   "id": "697e7509-b46e-49a3-90b7-b121c61be8d8",
   "metadata": {},
   "outputs": [
    {
     "name": "stdout",
     "output_type": "stream",
     "text": [
      "Было 25 страниц, а стало 133 чанков.\n",
      "\n",
      "--- Пример первого чанка ---\n",
      "Постановление Правительства РФ от 24.12.2021 N 2464 (ред. от 12.06.2024) \"О порядке обучения по охране труда и проверки знания требований охраны труда\" (вместе с \n",
      "\"Правилами обучения по охране труда и проверки знания требований охраны труда\") \n",
      "ПРАВИТЕЛЬСТВО РОССИЙСКОЙ ФЕДЕРАЦИИ \n",
      "ПОСТАНОВЛЕНИЕ \n",
      "от 24 декабря 2021 г. N 2464 \n",
      "О ПОРЯДКЕ \n",
      "ОБУЧЕНИЯ ПО ОХРАНЕ ТРУДА И ПРОВЕРКИ ЗНАНИЯ ТРЕБОВАНИЙ \n",
      "ОХРАНЫ ТРУДА \n",
      "Список изменяющих документов \n",
      "(в ред. Постановлений Правительства РФ от 30.12.2022 N 2540,\n",
      "от 12.06.2024 N 792)\n",
      "В соответствии с частью третьей статьи 219 Трудовог о кодекса Российской Федерации \n",
      "Правительство Российской Федерации постановляет: \n",
      "1. Утвердить прилагаемые Правила обучения по охране т руда и проверки знания требований охраны \n",
      "труда (далее - Правила). \n",
      "2. Установить, что: \n",
      "положения пункта 78 Правил применяются с 1 марта 2023 г.; \n",
      "положения пункта 99 Правил в части, касающейся осущес твления работодателем деятельности \n",
      "по\n",
      "\n",
      "Длина: 945 символов\n",
      "Метаданные: {'producer': 'GPL Ghostscript 10.02.1', 'creator': 'PDF24 Creator', 'creationdate': '2025-06-23T11:47:28+03:00', 'moddate': '2025-06-23T11:47:28+03:00', 'title': '<CFEEF1F2E0EDEEE2EBE5EDE8E520CFF0E0E2E8F2E5EBFCF1F2E2E020D0D420>', 'author': 'petr.baldaev', 'source': '../data/test_document.pdf', 'total_pages': 25, 'page': 0, 'page_label': '1'}\n",
      "\n",
      "--- Пример второго чанка ---\n",
      "труда (далее - Правила). \n",
      "2. Установить, что: \n",
      "положения пункта 78 Правил применяются с 1 марта 2023 г.; \n",
      "положения пункта 99 Правил в части, касающейся осущес твления работодателем деятельности \n",
      "по \n",
      "обучению работников вопросам охраны труда при условии  внесения этим работодателем информации в\n",
      "личный кабинет индивидуального предпринимателя или юриди ческого лица в информационной системе \n",
      "охраны труда Министерства труда и социальной защиты Ро ссийской Федерации, применяются с 1 марта \n",
      "2023 г.; \n",
      "положения пунктов 104 - 116 Правил в части, касающейс я внесения сведений в реестр \n",
      "индивидуальных предпринимателей и юридических лиц, осуществляющих деятельность по обучению своих \n",
      "работников вопросам охраны труда, применяются с 1 марта 2023 г.; \n",
      "положения пунктов 118 и 119 Правил в части, касающейс я внесения сведений в реестр обученных по \n",
      "охране труда лиц, применяются с 1 марта 2023 г.; \n",
      "документы, подтверждающие проверку у работников знания требований охраны труда, выданные в\n",
      "\n",
      "Длина: 985 символов\n",
      "Метаданные: {'producer': 'GPL Ghostscript 10.02.1', 'creator': 'PDF24 Creator', 'creationdate': '2025-06-23T11:47:28+03:00', 'moddate': '2025-06-23T11:47:28+03:00', 'title': '<CFEEF1F2E0EDEEE2EBE5EDE8E520CFF0E0E2E8F2E5EBFCF1F2E2E020D0D420>', 'author': 'petr.baldaev', 'source': '../data/test_document.pdf', 'total_pages': 25, 'page': 0, 'page_label': '1'}\n"
     ]
    }
   ],
   "source": [
    "print(f\"Было {len(documents)} страниц, а стало {len(chunks)} чанков.\")\n",
    "\n",
    "print(\"\\n--- Пример первого чанка ---\")\n",
    "# Убедимся, что чанк существует, прежде чем выводить его\n",
    "if len(chunks) > 0:\n",
    "    print(chunks[0].page_content)\n",
    "    print(f\"\\nДлина: {len(chunks[0].page_content)} символов\")\n",
    "    print(f\"Метаданные: {chunks[0].metadata}\")\n",
    "\n",
    "print(\"\\n--- Пример второго чанка ---\")\n",
    "# То же самое для второго чанка\n",
    "if len(chunks) > 1:\n",
    "    print(chunks[1].page_content)\n",
    "    print(f\"\\nДлина: {len(chunks[1].page_content)} символов\")\n",
    "    print(f\"Метаданные: {chunks[1].metadata}\")"
   ]
  },
  {
   "cell_type": "code",
   "execution_count": 11,
   "id": "2985470e-a482-4f5f-b012-2ae89b8a7efc",
   "metadata": {},
   "outputs": [],
   "source": [
    "import os\n",
    "from dotenv import load_dotenv\n",
    "from langchain_openai import OpenAIEmbeddings\n",
    "from langchain_community.vectorstores import Chroma"
   ]
  },
  {
   "cell_type": "code",
   "execution_count": 12,
   "id": "4ca1b57a-0ca6-4450-9460-07e9bfe7036e",
   "metadata": {},
   "outputs": [],
   "source": [
    "load_dotenv()\n",
    "\n",
    "# Проверяем, что ключ успешно загрузился\n",
    "if \"OPENAI_API_KEY\" not in os.environ:\n",
    "    raise ValueError(\"Не найден OPENAI_API_KEY. Убедитесь, что он есть в файле .env\")"
   ]
  },
  {
   "cell_type": "code",
   "execution_count": 13,
   "id": "54a52859-c388-420f-80bd-778b2acc15b4",
   "metadata": {},
   "outputs": [],
   "source": [
    "embeddings_model = OpenAIEmbeddings(model=\"text-embedding-3-small\")"
   ]
  },
  {
   "cell_type": "code",
   "execution_count": 15,
   "id": "cbe789d8-9072-4018-bae6-b3fc45912b81",
   "metadata": {},
   "outputs": [],
   "source": [
    "# Указываем папку, куда будет сохранена база данных\n",
    "persist_directory = 'chroma_db'\n",
    "\n",
    "# Создаем базу данных\n",
    "db = Chroma.from_documents(\n",
    "    documents=chunks,\n",
    "    embedding=embeddings_model,\n",
    "    persist_directory=persist_directory\n",
    ")"
   ]
  },
  {
   "cell_type": "code",
   "execution_count": 16,
   "id": "55b85eab-6b17-485e-a544-f16314025c0a",
   "metadata": {},
   "outputs": [
    {
     "name": "stdout",
     "output_type": "stream",
     "text": [
      "База данных успешно создана и сохранена.\n",
      "В ней содержится 133 документов.\n"
     ]
    }
   ],
   "source": [
    "print(\"База данных успешно создана и сохранена.\")\n",
    "print(f\"В ней содержится {db._collection.count()} документов.\")"
   ]
  },
  {
   "cell_type": "code",
   "execution_count": 17,
   "id": "b8e78100-3a02-4b2a-b56e-76ab53c75443",
   "metadata": {},
   "outputs": [
    {
     "name": "stdout",
     "output_type": "stream",
     "text": [
      "База данных успешно загружена с диска.\n"
     ]
    },
    {
     "name": "stderr",
     "output_type": "stream",
     "text": [
      "/var/folders/zg/vd4zt9bj0zn_ybxbpj3n39x80000gn/T/ipykernel_73600/751015001.py:8: LangChainDeprecationWarning: The class `Chroma` was deprecated in LangChain 0.2.9 and will be removed in 1.0. An updated version of the class exists in the :class:`~langchain-chroma package and should be used instead. To use it run `pip install -U :class:`~langchain-chroma` and import as `from :class:`~langchain_chroma import Chroma``.\n",
      "  db = Chroma(\n"
     ]
    }
   ],
   "source": [
    "# Указываем ту же папку, что и при сохранении\n",
    "persist_directory = 'chroma_db'\n",
    "\n",
    "# Инициализируем модель эмбеддингов (она нужна для векторизации нашего вопроса)\n",
    "embeddings_model = OpenAIEmbeddings(model=\"text-embedding-3-small\")\n",
    "\n",
    "# Загружаем базу данных с диска\n",
    "db = Chroma(\n",
    "    persist_directory=persist_directory,\n",
    "    embedding_function=embeddings_model\n",
    ")\n",
    "\n",
    "print(\"База данных успешно загружена с диска.\")"
   ]
  },
  {
   "cell_type": "code",
   "execution_count": null,
   "id": "9505c1cc-8f9f-4f0a-b10c-a9107020251d",
   "metadata": {},
   "outputs": [],
   "source": []
  }
 ],
 "metadata": {
  "kernelspec": {
   "display_name": "Python 3 (ipykernel)",
   "language": "python",
   "name": "python3"
  },
  "language_info": {
   "codemirror_mode": {
    "name": "ipython",
    "version": 3
   },
   "file_extension": ".py",
   "mimetype": "text/x-python",
   "name": "python",
   "nbconvert_exporter": "python",
   "pygments_lexer": "ipython3",
   "version": "3.11.5"
  }
 },
 "nbformat": 4,
 "nbformat_minor": 5
}
